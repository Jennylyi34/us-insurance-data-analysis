{
 "cells": [
  {
   "cell_type": "markdown",
   "metadata": {},
   "source": [
    "# U.S. Medical Insurance Costs"
   ]
  },
  {
   "cell_type": "markdown",
   "metadata": {},
   "source": [
    "### Overview\n",
    "\n",
    "In the U.S. the cost of medical insurance can be dependent on a number of different factors such as a person's age, sex, body mass index (BMI), the number of children they have, where they are from, and whether or not they smoke. \n",
    "\n",
    "### Scope\n",
    "\n",
    "In this project, I will be using Python3 fundamentals to analyze the dataset containing medical insurance data to determine how various factors can impact the cost of medical insurance. Specifically, I will examine how changing factors such as smoking status and BMI affects the cost of insurance in order to make recommendations for patients to decrease medical insurance costs. I will also analyze how insurance costs differ depending on a patient's age, sex, number of children and region they are from to determine which demographics results in the highest costs of insurance."
   ]
  },
  {
   "cell_type": "code",
   "execution_count": 1,
   "metadata": {},
   "outputs": [],
   "source": [
    "# import CSV libraries\n",
    "import csv"
   ]
  },
  {
   "cell_type": "markdown",
   "metadata": {},
   "source": [
    "For this project, I will be importing the `CSV` library to help read, organize, and analyze the __insurance.csv__ dataset."
   ]
  },
  {
   "cell_type": "code",
   "execution_count": 15,
   "metadata": {},
   "outputs": [],
   "source": [
    "with open('insurance.csv') as insurance_file:\n",
    "    insurance_data = insurance_file.read() "
   ]
  },
  {
   "cell_type": "markdown",
   "metadata": {},
   "source": [
    "Examining the __insurance.csv__ dataset above, we can see that there are 7 given columns:\n",
    "\n",
    "* Patient's age\n",
    "* Patient's sex\n",
    "* Patient's BMI\n",
    "* Patient's number of children\n",
    "* Patient's smoking status\n",
    "* Patient's regional location\n",
    "* Patient's medical insurance cost\n",
    "\n",
    "Since the data is currently stored in a CSV file, it is difficult to manipulate and analyze. For easier analysis, I will create empty lists for each of the columns above and store the datapoints of the CSV file in the appropriate lists."
   ]
  },
  {
   "cell_type": "code",
   "execution_count": 3,
   "metadata": {},
   "outputs": [],
   "source": [
    "# Create empty lists for each column of data in csv file\n",
    "ages = []\n",
    "sexes = []\n",
    "bmis = []\n",
    "num_children = []\n",
    "smoker_status = []\n",
    "regions = []\n",
    "charges = []"
   ]
  },
  {
   "cell_type": "markdown",
   "metadata": {},
   "source": [
    "Using **DictReader** I iterated through each row in the dataset and appended the datapoints into their corresponding lists."
   ]
  },
  {
   "cell_type": "code",
   "execution_count": 4,
   "metadata": {},
   "outputs": [],
   "source": [
    "# View insurance.csv file and sort data into lists\n",
    "with open('insurance.csv', newline = '') as insurance_file:\n",
    "    insurance_dict = csv.DictReader(insurance_file)\n",
    "    for row in insurance_dict:\n",
    "        ages.append(row['age'])\n",
    "        sexes.append(row['sex'])\n",
    "        bmis.append(row['bmi'])\n",
    "        num_children.append(row['children'])\n",
    "        smoker_status.append(row['smoker'])\n",
    "        regions.append(row['region'])\n",
    "        charges.append(row['charges'])\n",
    "    "
   ]
  },
  {
   "cell_type": "markdown",
   "metadata": {},
   "source": [
    "Using the len method, I verified that there are no missing datapoints in the dataset."
   ]
  },
  {
   "cell_type": "code",
   "execution_count": 5,
   "metadata": {},
   "outputs": [
    {
     "name": "stdout",
     "output_type": "stream",
     "text": [
      "True\n"
     ]
    }
   ],
   "source": [
    "#verify that each column does not have nulls and is not missing any information\n",
    "print(len(ages) == (len(sexes)) == (len(bmis)) == (len(num_children)) == (len(smoker_status)) == (len(regions)) == (len(charges)))"
   ]
  },
  {
   "cell_type": "markdown",
   "metadata": {},
   "source": [
    "In order to better understand our dataset, I created a function to find the average of a given variable."
   ]
  },
  {
   "cell_type": "code",
   "execution_count": 6,
   "metadata": {},
   "outputs": [],
   "source": [
    "def find_average(variable):\n",
    "    total = 0\n",
    "    for x in variable:\n",
    "        total += float(x)\n",
    "    return float(total/(len(variable)))"
   ]
  },
  {
   "cell_type": "markdown",
   "metadata": {},
   "source": [
    "Using the function that I created above, I found the average age, bmi, number of children, and insurance cost for the dataset."
   ]
  },
  {
   "cell_type": "code",
   "execution_count": 7,
   "metadata": {},
   "outputs": [
    {
     "name": "stdout",
     "output_type": "stream",
     "text": [
      "39.20702541106129\n",
      "30.663396860986538\n",
      "1.0949177877429\n",
      "13270.422265141257\n"
     ]
    }
   ],
   "source": [
    "print(find_average(ages))\n",
    "print(find_average(bmis))\n",
    "print(find_average(num_children))\n",
    "print(find_average(charges))"
   ]
  },
  {
   "cell_type": "markdown",
   "metadata": {},
   "source": [
    "In our dataset, the patients have the following averages:\n",
    "\n",
    "* Average age =  39\n",
    "* Average BMI = 30.66\n",
    "* Average number of children = 1\n",
    "* Average insurance cost = $13270.42"
   ]
  },
  {
   "cell_type": "markdown",
   "metadata": {},
   "source": [
    "By iterating through the \"sexes\" list, we can find the number of females vs males in our dataset."
   ]
  },
  {
   "cell_type": "code",
   "execution_count": 8,
   "metadata": {},
   "outputs": [
    {
     "name": "stdout",
     "output_type": "stream",
     "text": [
      "There are 676 males in the dataset.\n",
      "There are 662 females in the dataset.\n"
     ]
    }
   ],
   "source": [
    "male_count = 0\n",
    "female_count = 0\n",
    "for sex in sexes:\n",
    "    if sex == \"male\":\n",
    "        male_count += 1\n",
    "    else:\n",
    "        female_count += 1\n",
    "\n",
    "print(\"There are {male_count} males in the dataset.\".format(male_count = male_count))\n",
    "print(\"There are {female_count} females in the dataset.\".format(female_count = female_count))"
   ]
  },
  {
   "cell_type": "markdown",
   "metadata": {},
   "source": [
    "We can examine the regions list by iterating through each item and finding the number of patients from each region."
   ]
  },
  {
   "cell_type": "code",
   "execution_count": 9,
   "metadata": {},
   "outputs": [
    {
     "name": "stdout",
     "output_type": "stream",
     "text": [
      "{'southwest': 325, 'southeast': 364, 'northwest': 325, 'northeast': 324}\n"
     ]
    }
   ],
   "source": [
    "region_count = {}\n",
    "for region in regions:\n",
    "    if region not in region_count:\n",
    "        region_count[region] = 1\n",
    "    else:\n",
    "        region_count[region] += 1\n",
    "\n",
    "print(region_count)"
   ]
  },
  {
   "cell_type": "markdown",
   "metadata": {},
   "source": [
    "We can also compare the number of smokers vs non_smokers."
   ]
  },
  {
   "cell_type": "code",
   "execution_count": 10,
   "metadata": {},
   "outputs": [
    {
     "name": "stdout",
     "output_type": "stream",
     "text": [
      "There are 274 smokers in the dataset.\n",
      "There are 1064 nonsmokers in the dataset.\n"
     ]
    }
   ],
   "source": [
    "smoker_count = 0\n",
    "nonsmoker_count = 0\n",
    "for data in smoker_status:\n",
    "    if data == \"yes\":\n",
    "        smoker_count += 1\n",
    "    else:\n",
    "        nonsmoker_count += 1\n",
    "\n",
    "print(\"There are {smoker_count} smokers in the dataset.\".format(smoker_count = smoker_count))\n",
    "print(\"There are {nonsmoker_count} nonsmokers in the dataset.\".format(nonsmoker_count = nonsmoker_count))"
   ]
  },
  {
   "cell_type": "markdown",
   "metadata": {},
   "source": [
    "Now that we have a general overview of the demographics data in our data set, we can analyze how various factors affect the cost of insurance. By creating a function that takes in the cost factor and the factors that we are comparing as inputs, we can compare the differences in costs."
   ]
  },
  {
   "cell_type": "code",
   "execution_count": 11,
   "metadata": {},
   "outputs": [],
   "source": [
    "def compare_costs(cost_factor, factor1, factor2):\n",
    "    with open(\"insurance.csv\") as f:\n",
    "        file_dict = csv.DictReader(f)\n",
    "        total_factor1_charges = 0\n",
    "        factor1_count = 0\n",
    "        total_factor2_charges = 0\n",
    "        factor2_count = 0\n",
    "        for row in file_dict:\n",
    "            if row[cost_factor] == factor1:\n",
    "                total_factor1_charges += float(row['charges'])\n",
    "                factor1_count += 1\n",
    "            elif row[cost_factor] == factor2:\n",
    "                total_factor2_charges += float(row['charges'])\n",
    "                factor2_count += 1\n",
    "                \n",
    "    average_factor1_cost = round((total_factor1_charges / factor1_count), 2)\n",
    "    average_factor2_cost = round((total_factor2_charges / factor2_count), 2)\n",
    "             \n",
    "    print(\"Average insurance costs if {cost_factor} is {factor1}: ${average_factor1_cost}\"\n",
    "          .format(cost_factor = cost_factor, factor1 = factor1, average_factor1_cost = (average_factor1_cost)))\n",
    "    print(\"Average insurance costs if {cost_factor} is {factor2}: ${average_factor2_cost}\"\n",
    "          .format(cost_factor = cost_factor, factor2 = factor2, average_factor2_cost = average_factor2_cost))\n",
    "    \n",
    "    cost_difference = round(average_factor1_cost - average_factor2_cost, 2)\n",
    "                    \n",
    "    print (\"The difference in costs depending on {cost_factor} is ${cost_difference}\"\n",
    "           .format(cost_factor = cost_factor, cost_difference = cost_difference))"
   ]
  },
  {
   "cell_type": "markdown",
   "metadata": {},
   "source": [
    "Using the function created above, we can compare price differences for male and female."
   ]
  },
  {
   "cell_type": "code",
   "execution_count": 12,
   "metadata": {},
   "outputs": [
    {
     "name": "stdout",
     "output_type": "stream",
     "text": [
      "Average insurance costs if sex is male: $13956.75\n",
      "Average insurance costs if sex is female: $12569.58\n",
      "The difference in costs depending on sex is $1387.17\n"
     ]
    }
   ],
   "source": [
    "insurance_diff_for_sex = compare_costs('sex', 'male', 'female')\n"
   ]
  },
  {
   "cell_type": "markdown",
   "metadata": {},
   "source": [
    "On average, male patients pay $1387.17 more for insurance annually than females.\n",
    "\n",
    "We can also use the function to compare costs for smoker status."
   ]
  },
  {
   "cell_type": "code",
   "execution_count": 13,
   "metadata": {},
   "outputs": [
    {
     "name": "stdout",
     "output_type": "stream",
     "text": [
      "Average insurance costs if smoker is yes: $32050.23\n",
      "Average insurance costs if smoker is no: $8434.27\n",
      "The difference in costs depending on smoker is $23615.96\n"
     ]
    }
   ],
   "source": [
    "insurance_diff_for_smoker_status = compare_costs('smoker', 'yes', 'no')"
   ]
  },
  {
   "cell_type": "markdown",
   "metadata": {},
   "source": [
    "On average, patients who answer \"yes\" to smoker status pay $23615.96 more annually compared to patients who answer \"no\".\n",
    "\n",
    "Another factor we can analyze is BMI. BMI stands for body mass index and measures a person's body fat depending on their height and weight. BMI is seperated by categories:\n",
    "\n",
    "* BMI < 18.5 is in the underweight range\n",
    "* BMI 18.5 - 24.9 is in the healthy weight range\n",
    "* BMI 25.0 - 29.9 is in the overweight range\n",
    "* BMI >=30.0 is in the obesity range\n",
    "\n",
    "With this in mind, we can analyze the difference in insurance costs by BMI."
   ]
  },
  {
   "cell_type": "code",
   "execution_count": 14,
   "metadata": {},
   "outputs": [
    {
     "name": "stdout",
     "output_type": "stream",
     "text": [
      "The average cost for patients in the underweight range is : $8852.2\n",
      "The average cost for patients in the healthy range is : $10409.34\n",
      "The average cost for patients in the overweight range is : $10987.51\n",
      "The average cost for patients in the obese range is : $15552\n",
      "The difference in average cost for obese patients versus overweight patients is: $4564.49\n"
     ]
    }
   ],
   "source": [
    "with open('insurance.csv') as insurance_file:\n",
    "    insurance_dict = csv.DictReader(insurance_file)\n",
    "    underweight_count = 0\n",
    "    healthy_count = 0\n",
    "    overweight_count = 0\n",
    "    obese_count = 0\n",
    "    \n",
    "    underweight_charges = 0\n",
    "    healthy_charges = 0\n",
    "    overweight_charges = 0\n",
    "    obese_charges = 0\n",
    "    \n",
    "    for row in insurance_dict:\n",
    "        bmi = float(row['bmi'])\n",
    "        charge = float(row['charges'])\n",
    "        if bmi < 18.5:\n",
    "            underweight_count += 1\n",
    "            underweight_charges += charge\n",
    "        elif bmi >= 18.5 and bmi < 25:\n",
    "            healthy_count += 1\n",
    "            healthy_charges += charge\n",
    "        elif bmi >= 25 and bmi < 30:\n",
    "            overweight_count += 1\n",
    "            overweight_charges += charge\n",
    "        else:\n",
    "            obese_count += 1\n",
    "            obese_charges += charge\n",
    "    \n",
    "    avg_underweight_charges = round(underweight_charges/ underweight_count, 2)\n",
    "    avg_healthy_charges = round(healthy_charges / healthy_count, 2)\n",
    "    avg_overweight_charges = round(overweight_charges / overweight_count, 2)\n",
    "    avg_obese_charges = round(obese_charges / obese_count)\n",
    "    \n",
    "print(\"The average cost for patients in the underweight range is : $\" + str(avg_underweight_charges))\n",
    "print(\"The average cost for patients in the healthy range is : $\" + str(avg_healthy_charges))\n",
    "print(\"The average cost for patients in the overweight range is : $\" + str(avg_overweight_charges))\n",
    "print(\"The average cost for patients in the obese range is : $\" + str(avg_obese_charges))\n",
    "\n",
    "print(\"The difference in average cost for obese patients versus overweight patients is: $\" + str(avg_obese_charges - avg_overweight_charges))"
   ]
  },
  {
   "cell_type": "markdown",
   "metadata": {},
   "source": [
    "From our analysis above, we can see that patients in the obese range pay $4565.49 than patients in the overweight range."
   ]
  },
  {
   "cell_type": "markdown",
   "metadata": {},
   "source": [
    "## Findings and Recommendations\n",
    "\n",
    "Based on the calculations done in this analysis, we can see that being a smoker and/or having a higher BMI can significantly increase the annual cost from insurance. While other factors such as age, sex, number of children, and region can affect these costs, the average costs of insurance rises about $4000 and $23000 for smokers and individuals with high BMI, respectively. From these findings, I would recommend for patients with high insurance costs to consider to quit smoking or lower their BMI if possible in order to reduce annual insurance costs."
   ]
  }
 ],
 "metadata": {
  "celltoolbar": "Raw Cell Format",
  "kernelspec": {
   "display_name": "Python 3 (ipykernel)",
   "language": "python",
   "name": "python3"
  },
  "language_info": {
   "codemirror_mode": {
    "name": "ipython",
    "version": 3
   },
   "file_extension": ".py",
   "mimetype": "text/x-python",
   "name": "python",
   "nbconvert_exporter": "python",
   "pygments_lexer": "ipython3",
   "version": "3.9.7"
  }
 },
 "nbformat": 4,
 "nbformat_minor": 4
}
